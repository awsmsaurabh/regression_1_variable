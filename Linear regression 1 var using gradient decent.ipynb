{
 "cells": [
  {
   "cell_type": "code",
   "execution_count": 1,
   "metadata": {},
   "outputs": [],
   "source": [
    "#importing required liberary\n",
    "import numpy as np\n",
    "import pandas as pd\n",
    "from matplotlib import pyplot as plt"
   ]
  },
  {
   "cell_type": "code",
   "execution_count": 2,
   "metadata": {},
   "outputs": [],
   "source": [
    "#import datasets\n",
    "train_data=pd.read_csv(\"train.csv\");\n",
    "test_data=pd.read_csv(\"test.csv\");"
   ]
  },
  {
   "cell_type": "code",
   "execution_count": 3,
   "metadata": {},
   "outputs": [],
   "source": [
    "#removing Nan if any\n",
    "train_data=train_data.dropna()\n",
    "test_data=test_data.dropna()"
   ]
  },
  {
   "cell_type": "code",
   "execution_count": 4,
   "metadata": {},
   "outputs": [],
   "source": [
    "#loading training data in numpy array\n",
    "x=np.array(train_data.loc[:,'x'])\n",
    "y=np.array(train_data.loc[:,'y'])"
   ]
  },
  {
   "cell_type": "code",
   "execution_count": 5,
   "metadata": {},
   "outputs": [],
   "source": [
    "#loading testing data in numpy array\n",
    "x_test=np.array(test_data.loc[:,'x'])\n",
    "y_test=np.array(test_data.loc[:,'y'])"
   ]
  },
  {
   "cell_type": "code",
   "execution_count": 6,
   "metadata": {},
   "outputs": [],
   "source": [
    "#Linear Regression Model\n",
    "m=0.0\n",
    "m=len(x)#size of train data\n",
    "#a is our coefficient y=a0+a1x\n",
    "a=np.array([0.0,0.0])\n",
    "alpha=0.0001#learning rate"
   ]
  },
  {
   "cell_type": "code",
   "execution_count": 7,
   "metadata": {},
   "outputs": [],
   "source": [
    "for j in range(1000):\n",
    "    y_diff_sum=0.0\n",
    "    y_diff_sum_x=0.0\n",
    "    for i in range(m):\n",
    "        y_diff=(a[0]+a[1]*x[i])-y[i]\n",
    "        y_diff_sum+=y_diff\n",
    "        y_diff_sum_x+=(y_diff*x[i])\n",
    "    a[0]=a[0]-alpha*y_diff_sum/m\n",
    "    a[1]=a[1]-alpha*y_diff_sum_x/m"
   ]
  },
  {
   "cell_type": "code",
   "execution_count": 8,
   "metadata": {},
   "outputs": [],
   "source": [
    "#for j in range(10000):\n",
    "#    for i in range(m):\n",
    "#        y_diff=y[i]-(a[0]+a[1]*x[i])\n",
    "#        a[0]=a[0]-alpha*y_diff/m\n",
    "#        a[1]=a[1]-alpha*y_diff/m"
   ]
  },
  {
   "cell_type": "code",
   "execution_count": 9,
   "metadata": {},
   "outputs": [
    {
     "name": "stdout",
     "output_type": "stream",
     "text": [
      "y=0.011937938999784072+0.9988705055011785x\n"
     ]
    }
   ],
   "source": [
    "print(\"y={}+{}x\".format(a[0],a[1]))"
   ]
  },
  {
   "cell_type": "code",
   "execution_count": 10,
   "metadata": {},
   "outputs": [],
   "source": [
    "#predicting y\n",
    "y_pred=a[0]+a[1]*x_test"
   ]
  },
  {
   "cell_type": "code",
   "execution_count": 11,
   "metadata": {},
   "outputs": [
    {
     "name": "stdout",
     "output_type": "stream",
     "text": [
      "mean square error 9.45654047593145\n"
     ]
    }
   ],
   "source": [
    "mean_sq_error=((y_pred-y_test)**2).sum()/len(y_test)\n",
    "print(\"mean square error\",mean_sq_error)"
   ]
  },
  {
   "cell_type": "code",
   "execution_count": 12,
   "metadata": {},
   "outputs": [
    {
     "name": "stdout",
     "output_type": "stream",
     "text": [
      "Mean squaed error  9.45654047593145\n",
      "r2 score  0.9887734053310671\n"
     ]
    }
   ],
   "source": [
    "#importing liberary for accuracy check\n",
    "from sklearn.metrics import mean_squared_error, r2_score\n",
    "print(\"Mean squaed error \",mean_squared_error(y_test,y_pred))\n",
    "print(\"r2 score \",r2_score(y_test,y_pred))"
   ]
  },
  {
   "cell_type": "code",
   "execution_count": 13,
   "metadata": {},
   "outputs": [
    {
     "data": {
      "image/png": "[encoded data removed]",
      "text/plain": [
       "<Figure size 432x288 with 1 Axes>"
      ]
     },
     "metadata": {},
     "output_type": "display_data"
    }
   ],
   "source": [
    "#Plotting training data\n",
    "plt.scatter(x,y,color='red')\n",
    "plt.title(\"Train data set\")\n",
    "plt.xlabel(\"X\")\n",
    "plt.ylabel(\"Y\")\n",
    "plt.show()"
   ]
  },
  {
   "cell_type": "code",
   "execution_count": 14,
   "metadata": {},
   "outputs": [
    {
     "data": {
      "image/png": "[encoded data removed]",
      "text/plain": [
       "<Figure size 432x288 with 1 Axes>"
      ]
     },
     "metadata": {},
     "output_type": "display_data"
    }
   ],
   "source": [
    "#plotting test data\n",
    "plt.scatter(x_test,y_test,color='red')\n",
    "plt.plot(x_test,y_pred,color='blue')\n",
    "plt.title(\"Test data set\")\n",
    "plt.xlabel(\"X\")\n",
    "plt.ylabel(\"Y\")\n",
    "plt.show()"
   ]
  }
 ],
 "metadata": {
  "kernelspec": {
   "display_name": "Python 3",
   "language": "python",
   "name": "python3"
  },
  "language_info": {
   "codemirror_mode": {
    "name": "ipython",
    "version": 3
   },
   "file_extension": ".py",
   "mimetype": "text/x-python",
   "name": "python",
   "nbconvert_exporter": "python",
   "pygments_lexer": "ipython3",
   "version": "3.6.5"
  }
 },
 "nbformat": 4,
 "nbformat_minor": 2
}
